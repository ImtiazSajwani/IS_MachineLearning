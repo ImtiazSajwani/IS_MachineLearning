{
 "cells": [
  {
   "cell_type": "markdown",
   "metadata": {
    "id": "1-92Je8Q1uFm"
   },
   "source": [
    "# Predicting NYC Taxi Fares with public version of XGboost and Modin"
   ]
  },
  {
   "cell_type": "markdown",
   "metadata": {},
   "source": [
    "### Install necessary packages "
   ]
  },
  {
   "cell_type": "code",
   "execution_count": 1,
   "metadata": {
    "scrolled": true
   },
   "outputs": [],
   "source": [
    "#!pip3 install pandas\n",
    "#!pip3 install scikit-learn\n",
    "#!pip3 install xgboost==0.82\n",
    "#!pip3 install scipy "
   ]
  },
  {
   "cell_type": "markdown",
   "metadata": {
    "scrolled": true
   },
   "source": [
    "### Check conda list - We are running public version of XGboost, Modin"
   ]
  },
  {
   "cell_type": "code",
   "execution_count": 2,
   "metadata": {
    "scrolled": true
   },
   "outputs": [
    {
     "name": "stdout",
     "output_type": "stream",
     "text": [
      "pandas                    1.3.5                    pypi_0    pypi\r\n",
      "scikit-learn              1.0.2                    pypi_0    pypi\r\n",
      "xgboost                   0.82                     pypi_0    pypi\r\n"
     ]
    }
   ],
   "source": [
    "!conda list | grep 'scikit\\|xgboost\\|modin\\|pandas'"
   ]
  },
  {
   "cell_type": "code",
   "execution_count": 3,
   "metadata": {
    "executionInfo": {
     "elapsed": 17,
     "status": "ok",
     "timestamp": 1648500084501,
     "user": {
      "displayName": "Swanand Mhalagi",
      "userId": "08810574404295251353"
     },
     "user_tz": 420
    },
    "id": "syJg-Nps1uFt"
   },
   "outputs": [],
   "source": [
    "import glob\n",
    "import socket, time\n",
    "import pandas as modin_omni_pd\n",
    "import xgboost as xgb\n",
    "import numpy as np\n",
    "from sklearn import preprocessing\n",
    "\n",
    "import warnings\n",
    "warnings.filterwarnings('ignore')\n",
    "import time"
   ]
  },
  {
   "cell_type": "markdown",
   "metadata": {
    "id": "F2CJFqTo1uFx"
   },
   "source": [
    "# Read the Data \n",
    "\n",
    "We'll use Modin on Omnisci to load and parse all CSV files into a DataFrame.\n",
    "\n",
    "As usual, the data needs to be massaged a bit before we can start adding features that are useful to an ML model.\n",
    "\n",
    "For example, in the 2014 taxi CSV files, there are `pickup_datetime` and `dropoff_datetime` columns. \n",
    "\n",
    "We'll do a little string manipulation, column renaming, and concatenating of DataFrames to sidestep the problems."
   ]
  },
  {
   "cell_type": "code",
   "execution_count": 4,
   "metadata": {
    "executionInfo": {
     "elapsed": 134,
     "status": "ok",
     "timestamp": 1648500092791,
     "user": {
      "displayName": "Swanand Mhalagi",
      "userId": "08810574404295251353"
     },
     "user_tz": 420
    },
    "id": "Ksi5mjCD1uFy"
   },
   "outputs": [],
   "source": [
    "#Dictionary of required columns and their datatypes\n",
    "must_haves = {\n",
    "     'pickup_datetime': 'datetime64[s]',\n",
    "     'dropoff_datetime': 'datetime64[s]',\n",
    "     'passenger_count': 'int32',\n",
    "     'trip_distance': 'float32',\n",
    "     'pickup_longitude': 'float32',\n",
    "     'pickup_latitude': 'float32',\n",
    "     'rate_code': 'int32',\n",
    "     'dropoff_longitude': 'float32',\n",
    "     'dropoff_latitude': 'float32',\n",
    "     'fare_amount': 'float32'\n",
    "    }"
   ]
  },
  {
   "cell_type": "code",
   "execution_count": 5,
   "metadata": {
    "executionInfo": {
     "elapsed": 180,
     "status": "ok",
     "timestamp": 1648500094579,
     "user": {
      "displayName": "Swanand Mhalagi",
      "userId": "08810574404295251353"
     },
     "user_tz": 420
    },
    "id": "b-j6ulXp1uF0"
   },
   "outputs": [],
   "source": [
    "def clean(ddf, must_haves):\n",
    "    # replace the extraneous spaces in column names and lower the font type\n",
    "    tmp = {col:col.strip().lower() for col in list(ddf.columns)}\n",
    "    ddf = ddf.rename(columns=tmp)\n",
    "\n",
    "    ddf = ddf.rename(columns={\n",
    "        'tpep_pickup_datetime': 'pickup_datetime',\n",
    "        'tpep_dropoff_datetime': 'dropoff_datetime',\n",
    "        'ratecodeid': 'rate_code'\n",
    "    })\n",
    "    \n",
    "    for col in ddf.columns:\n",
    "        if col not in must_haves:\n",
    "            ddf = ddf.drop(columns=col)\n",
    "            continue\n",
    "        if ddf[col].dtype == 'object':\n",
    "            ddf[col] = ddf[col].fillna('-1')\n",
    "    \n",
    "    return ddf"
   ]
  },
  {
   "cell_type": "code",
   "execution_count": 6,
   "metadata": {
    "executionInfo": {
     "elapsed": 52761,
     "status": "ok",
     "timestamp": 1648500149025,
     "user": {
      "displayName": "Swanand Mhalagi",
      "userId": "08810574404295251353"
     },
     "user_tz": 420
    },
    "id": "GO9aeGsC1uF2"
   },
   "outputs": [
    {
     "name": "stdout",
     "output_type": "stream",
     "text": [
      "4.700435638427734\n"
     ]
    }
   ],
   "source": [
    "##%%time\n",
    "\n",
    "start = time.time()\n",
    "df_2014 = modin_omni_pd.concat([\n",
    "    clean(modin_omni_pd.read_csv(x, parse_dates=['pickup_datetime', 'dropoff_datetime'], nrows=2000000), must_haves)\n",
    "    for x in glob.glob('nyc_taxi_data.csv')], ignore_index=True)\n",
    "\n",
    "end = time.time()\n",
    "data_reading_time = end - start\n",
    "print(data_reading_time)"
   ]
  },
  {
   "cell_type": "code",
   "execution_count": 7,
   "metadata": {
    "colab": {
     "base_uri": "https://localhost:8080/"
    },
    "executionInfo": {
     "elapsed": 7675,
     "status": "ok",
     "timestamp": 1648500156696,
     "user": {
      "displayName": "Swanand Mhalagi",
      "userId": "08810574404295251353"
     },
     "user_tz": 420
    },
    "id": "58QBSTEV1uF3",
    "outputId": "f22d79ba-543c-43f2-e121-bea22aff333b"
   },
   "outputs": [
    {
     "data": {
      "text/plain": [
       "pickup_datetime      datetime64[ns]\n",
       "dropoff_datetime     datetime64[ns]\n",
       "passenger_count               int64\n",
       "trip_distance               float64\n",
       "pickup_longitude            float64\n",
       "pickup_latitude             float64\n",
       "rate_code                     int64\n",
       "dropoff_longitude           float64\n",
       "dropoff_latitude            float64\n",
       "fare_amount                 float64\n",
       "dtype: object"
      ]
     },
     "execution_count": 7,
     "metadata": {},
     "output_type": "execute_result"
    }
   ],
   "source": [
    "df_2014.dtypes"
   ]
  },
  {
   "cell_type": "code",
   "execution_count": 8,
   "metadata": {
    "colab": {
     "base_uri": "https://localhost:8080/"
    },
    "executionInfo": {
     "elapsed": 14,
     "status": "ok",
     "timestamp": 1648500156697,
     "user": {
      "displayName": "Swanand Mhalagi",
      "userId": "08810574404295251353"
     },
     "user_tz": 420
    },
    "id": "fz8BT-JN1uF6",
    "outputId": "0bc55659-64ae-4070-9274-e5d08a53b13b"
   },
   "outputs": [
    {
     "data": {
      "text/plain": [
       "(2000000, 10)"
      ]
     },
     "execution_count": 8,
     "metadata": {},
     "output_type": "execute_result"
    }
   ],
   "source": [
    "df_2014.shape"
   ]
  },
  {
   "cell_type": "markdown",
   "metadata": {
    "id": "RyqeQ96O1uGF"
   },
   "source": [
    "# Data Cleanup\n",
    "\n",
    "We'll use a Euclidean Distance calculation to find total trip distance, and extract additional useful variables from the datetime fields."
   ]
  },
  {
   "cell_type": "code",
   "execution_count": 9,
   "metadata": {},
   "outputs": [],
   "source": [
    "#concatenate multiple DataFrames into one bigger one\n",
    "taxi_df = modin_omni_pd.concat([df_2014], ignore_index=True)"
   ]
  },
  {
   "cell_type": "markdown",
   "metadata": {
    "id": "ZwTlF1ig1uGE"
   },
   "source": [
    "Taking the NYC map coordinates into consideration, we will only select records where tripdistance < 500 miles."
   ]
  },
  {
   "cell_type": "code",
   "execution_count": 10,
   "metadata": {
    "executionInfo": {
     "elapsed": 93535,
     "status": "ok",
     "timestamp": 1648500379559,
     "user": {
      "displayName": "Swanand Mhalagi",
      "userId": "08810574404295251353"
     },
     "user_tz": 420
    },
    "id": "r6ayQKq_1uGF"
   },
   "outputs": [],
   "source": [
    "# apply a list of filter conditions to throw out records with missing or outlier values\n",
    "taxi_df = taxi_df[\n",
    "    (taxi_df.fare_amount > 1) &\n",
    "    (taxi_df.fare_amount < 500) &\n",
    "    (taxi_df.passenger_count > 0) &\n",
    "    (taxi_df.passenger_count < 6) &\n",
    "    (taxi_df.pickup_longitude > -75) &\n",
    "    (taxi_df.pickup_longitude < -73) &\n",
    "    (taxi_df.dropoff_longitude > -75) &\n",
    "    (taxi_df.dropoff_longitude < -73) &\n",
    "    (taxi_df.pickup_latitude > 40) &\n",
    "    (taxi_df.pickup_latitude < 42) &\n",
    "    (taxi_df.dropoff_latitude > 40) &\n",
    "    (taxi_df.dropoff_latitude < 42) &\n",
    "    (taxi_df.trip_distance > 0) &\n",
    "    (taxi_df.trip_distance < 500) &\n",
    "    ((taxi_df.trip_distance <= 50) | (taxi_df.fare_amount >= 50)) &\n",
    "    ((taxi_df.trip_distance >= 10) | (taxi_df.fare_amount <= 300)) &\n",
    "    (taxi_df.dropoff_datetime > taxi_df.pickup_datetime)]"
   ]
  },
  {
   "cell_type": "code",
   "execution_count": 11,
   "metadata": {
    "executionInfo": {
     "elapsed": 22,
     "status": "ok",
     "timestamp": 1648500379560,
     "user": {
      "displayName": "Swanand Mhalagi",
      "userId": "08810574404295251353"
     },
     "user_tz": 420
    },
    "id": "9rUZqnuJ1uGF"
   },
   "outputs": [],
   "source": [
    "# reset_index and drop index column\n",
    "taxi_df = taxi_df.reset_index(drop=True)"
   ]
  },
  {
   "cell_type": "markdown",
   "metadata": {},
   "source": [
    "# Adding Interesting Features\n",
    "\n",
    "We will add a column as a new feature "
   ]
  },
  {
   "cell_type": "code",
   "execution_count": 12,
   "metadata": {
    "executionInfo": {
     "elapsed": 33316,
     "status": "ok",
     "timestamp": 1648500450238,
     "user": {
      "displayName": "Swanand Mhalagi",
      "userId": "08810574404295251353"
     },
     "user_tz": 420
    },
    "id": "P_JuUIJl1uGG"
   },
   "outputs": [],
   "source": [
    "## add features\n",
    "taxi_df['day'] = taxi_df['pickup_datetime'].dt.day\n",
    "\n",
    "#calculate the time difference between dropoff and pickup.\n",
    "taxi_df['diff'] = taxi_df['dropoff_datetime'].astype('int64') - taxi_df['pickup_datetime'].astype('int64')\n",
    "\n",
    "taxi_df['pickup_latitude_r'] = taxi_df['pickup_latitude']//.01*.01\n",
    "taxi_df['pickup_longitude_r'] = taxi_df['pickup_longitude']//.01*.01\n",
    "taxi_df['dropoff_latitude_r'] = taxi_df['dropoff_latitude']//.01*.01\n",
    "taxi_df['dropoff_longitude_r'] = taxi_df['dropoff_longitude']//.01*.01\n",
    "\n",
    "taxi_df = taxi_df.drop('pickup_datetime', axis=1)\n",
    "taxi_df = taxi_df.drop('dropoff_datetime', axis=1)\n",
    "\n",
    "dlon = taxi_df['dropoff_longitude'] - taxi_df['pickup_longitude']\n",
    "dlat = taxi_df['dropoff_latitude'] - taxi_df['pickup_latitude']\n",
    "taxi_df['e_distance'] = dlon * dlon + dlat * dlat"
   ]
  },
  {
   "cell_type": "markdown",
   "metadata": {
    "id": "vQml3xwt1uGH"
   },
   "source": [
    "# Pick a Training Set\n",
    "\n",
    "Let's imagine you're making a trip to New York on the 25th and want to build a model to predict what fare prices will be like the last few days of the month based on the first part of the month. We'll use a query expression to identify the `day` of the month to use to divide the data into train and test sets."
   ]
  },
  {
   "cell_type": "code",
   "execution_count": 13,
   "metadata": {
    "executionInfo": {
     "elapsed": 140,
     "status": "ok",
     "timestamp": 1648500627339,
     "user": {
      "displayName": "Swanand Mhalagi",
      "userId": "08810574404295251353"
     },
     "user_tz": 420
    },
    "id": "jzC7jd6o1uGH"
   },
   "outputs": [],
   "source": [
    "#since we calculated the h_distance let's drop the trip_distance column, and then do model training with XGB.\n",
    "taxi_df = taxi_df.drop('trip_distance', axis=1)"
   ]
  },
  {
   "cell_type": "code",
   "execution_count": 14,
   "metadata": {
    "executionInfo": {
     "elapsed": 32805,
     "status": "ok",
     "timestamp": 1648500662636,
     "user": {
      "displayName": "Swanand Mhalagi",
      "userId": "08810574404295251353"
     },
     "user_tz": 420
    },
    "id": "Z-_2pyNy1uGH"
   },
   "outputs": [],
   "source": [
    "# this is the original data partition for train and test sets.\n",
    "X_train = taxi_df[taxi_df.day < 25]\n",
    "\n",
    "# create a Y_train ddf with just the target variable\n",
    "Y_train = X_train[['fare_amount']]\n",
    "# drop the target variable from the training ddf\n",
    "X_train = X_train[X_train.columns.difference(['fare_amount'])]"
   ]
  },
  {
   "cell_type": "markdown",
   "metadata": {
    "id": "dtXPmm0o1uGH"
   },
   "source": [
    "# Train the XGBoost Regression Model\n",
    "\n",
    "The wall time output below indicates how long it took to train an XGBoost model over the training set."
   ]
  },
  {
   "cell_type": "code",
   "execution_count": 15,
   "metadata": {
    "colab": {
     "base_uri": "https://localhost:8080/"
    },
    "executionInfo": {
     "elapsed": 145,
     "status": "ok",
     "timestamp": 1648500668625,
     "user": {
      "displayName": "Swanand Mhalagi",
      "userId": "08810574404295251353"
     },
     "user_tz": 420
    },
    "id": "v6SKaa0m1uGH",
    "outputId": "36283dfb-7894-4621-bb36-a723ec0c6b9e"
   },
   "outputs": [
    {
     "data": {
      "text/plain": [
       "(1929562, 13)"
      ]
     },
     "execution_count": 15,
     "metadata": {},
     "output_type": "execute_result"
    }
   ],
   "source": [
    "X_train.shape"
   ]
  },
  {
   "cell_type": "code",
   "execution_count": 16,
   "metadata": {
    "colab": {
     "base_uri": "https://localhost:8080/"
    },
    "executionInfo": {
     "elapsed": 159,
     "status": "ok",
     "timestamp": 1648500670247,
     "user": {
      "displayName": "Swanand Mhalagi",
      "userId": "08810574404295251353"
     },
     "user_tz": 420
    },
    "id": "tS3gf3Oj1uGI",
    "outputId": "9de97868-2a00-4168-bc5e-f7395cb2cf10"
   },
   "outputs": [
    {
     "data": {
      "text/plain": [
       "(1929562, 1)"
      ]
     },
     "execution_count": 16,
     "metadata": {},
     "output_type": "execute_result"
    }
   ],
   "source": [
    "Y_train.shape"
   ]
  },
  {
   "cell_type": "code",
   "execution_count": 17,
   "metadata": {
    "colab": {
     "base_uri": "https://localhost:8080/"
    },
    "executionInfo": {
     "elapsed": 296,
     "status": "ok",
     "timestamp": 1648500673299,
     "user": {
      "displayName": "Swanand Mhalagi",
      "userId": "08810574404295251353"
     },
     "user_tz": 420
    },
    "id": "mvVfHxiT1uGH",
    "outputId": "96e75a2e-296d-42d1-e751-bcb190c69f21"
   },
   "outputs": [
    {
     "data": {
      "text/plain": [
       "day                      int64\n",
       "diff                     int64\n",
       "dropoff_latitude       float64\n",
       "dropoff_latitude_r     float64\n",
       "dropoff_longitude      float64\n",
       "dropoff_longitude_r    float64\n",
       "e_distance             float64\n",
       "passenger_count          int64\n",
       "pickup_latitude        float64\n",
       "pickup_latitude_r      float64\n",
       "pickup_longitude       float64\n",
       "pickup_longitude_r     float64\n",
       "rate_code                int64\n",
       "dtype: object"
      ]
     },
     "execution_count": 17,
     "metadata": {},
     "output_type": "execute_result"
    }
   ],
   "source": [
    "X_train.dtypes"
   ]
  },
  {
   "cell_type": "code",
   "execution_count": 18,
   "metadata": {
    "colab": {
     "base_uri": "https://localhost:8080/"
    },
    "executionInfo": {
     "elapsed": 267,
     "status": "ok",
     "timestamp": 1648500675591,
     "user": {
      "displayName": "Swanand Mhalagi",
      "userId": "08810574404295251353"
     },
     "user_tz": 420
    },
    "id": "2KuVLJg-iRZG",
    "outputId": "33453bdb-84e5-4884-dc76-80793f496107"
   },
   "outputs": [
    {
     "data": {
      "text/plain": [
       "fare_amount    float64\n",
       "dtype: object"
      ]
     },
     "execution_count": 18,
     "metadata": {},
     "output_type": "execute_result"
    }
   ],
   "source": [
    "Y_train.dtypes"
   ]
  },
  {
   "cell_type": "code",
   "execution_count": 19,
   "metadata": {
    "colab": {
     "base_uri": "https://localhost:8080/",
     "height": 226
    },
    "executionInfo": {
     "elapsed": 145,
     "status": "ok",
     "timestamp": 1648500677562,
     "user": {
      "displayName": "Swanand Mhalagi",
      "userId": "08810574404295251353"
     },
     "user_tz": 420
    },
    "id": "bZGBLXxNkSYK",
    "outputId": "87becbf6-99a3-4452-965f-2b2010cf68bf"
   },
   "outputs": [
    {
     "data": {
      "text/html": [
       "<div>\n",
       "<style scoped>\n",
       "    .dataframe tbody tr th:only-of-type {\n",
       "        vertical-align: middle;\n",
       "    }\n",
       "\n",
       "    .dataframe tbody tr th {\n",
       "        vertical-align: top;\n",
       "    }\n",
       "\n",
       "    .dataframe thead th {\n",
       "        text-align: right;\n",
       "    }\n",
       "</style>\n",
       "<table border=\"1\" class=\"dataframe\">\n",
       "  <thead>\n",
       "    <tr style=\"text-align: right;\">\n",
       "      <th></th>\n",
       "      <th>day</th>\n",
       "      <th>diff</th>\n",
       "      <th>dropoff_latitude</th>\n",
       "      <th>dropoff_latitude_r</th>\n",
       "      <th>dropoff_longitude</th>\n",
       "      <th>dropoff_longitude_r</th>\n",
       "      <th>e_distance</th>\n",
       "      <th>passenger_count</th>\n",
       "      <th>pickup_latitude</th>\n",
       "      <th>pickup_latitude_r</th>\n",
       "      <th>pickup_longitude</th>\n",
       "      <th>pickup_longitude_r</th>\n",
       "      <th>rate_code</th>\n",
       "    </tr>\n",
       "  </thead>\n",
       "  <tbody>\n",
       "    <tr>\n",
       "      <th>0</th>\n",
       "      <td>9</td>\n",
       "      <td>426000000000</td>\n",
       "      <td>40.731790</td>\n",
       "      <td>40.73</td>\n",
       "      <td>-73.982227</td>\n",
       "      <td>-73.99</td>\n",
       "      <td>0.000183</td>\n",
       "      <td>1</td>\n",
       "      <td>40.736828</td>\n",
       "      <td>40.73</td>\n",
       "      <td>-73.994770</td>\n",
       "      <td>-74.00</td>\n",
       "      <td>1</td>\n",
       "    </tr>\n",
       "    <tr>\n",
       "      <th>1</th>\n",
       "      <td>9</td>\n",
       "      <td>540000000000</td>\n",
       "      <td>40.763995</td>\n",
       "      <td>40.76</td>\n",
       "      <td>-73.960449</td>\n",
       "      <td>-73.97</td>\n",
       "      <td>0.000570</td>\n",
       "      <td>1</td>\n",
       "      <td>40.773382</td>\n",
       "      <td>40.77</td>\n",
       "      <td>-73.982392</td>\n",
       "      <td>-73.99</td>\n",
       "      <td>1</td>\n",
       "    </tr>\n",
       "    <tr>\n",
       "      <th>2</th>\n",
       "      <td>9</td>\n",
       "      <td>899000000000</td>\n",
       "      <td>40.765217</td>\n",
       "      <td>40.76</td>\n",
       "      <td>-73.986626</td>\n",
       "      <td>-73.99</td>\n",
       "      <td>0.000670</td>\n",
       "      <td>2</td>\n",
       "      <td>40.739406</td>\n",
       "      <td>40.73</td>\n",
       "      <td>-73.988570</td>\n",
       "      <td>-73.99</td>\n",
       "      <td>1</td>\n",
       "    </tr>\n",
       "    <tr>\n",
       "      <th>3</th>\n",
       "      <td>9</td>\n",
       "      <td>403000000000</td>\n",
       "      <td>40.777050</td>\n",
       "      <td>40.77</td>\n",
       "      <td>-73.979863</td>\n",
       "      <td>-73.98</td>\n",
       "      <td>0.000429</td>\n",
       "      <td>1</td>\n",
       "      <td>40.770464</td>\n",
       "      <td>40.77</td>\n",
       "      <td>-73.960213</td>\n",
       "      <td>-73.97</td>\n",
       "      <td>1</td>\n",
       "    </tr>\n",
       "    <tr>\n",
       "      <th>4</th>\n",
       "      <td>9</td>\n",
       "      <td>383000000000</td>\n",
       "      <td>40.720524</td>\n",
       "      <td>40.72</td>\n",
       "      <td>-73.984367</td>\n",
       "      <td>-73.99</td>\n",
       "      <td>0.000132</td>\n",
       "      <td>1</td>\n",
       "      <td>40.717248</td>\n",
       "      <td>40.71</td>\n",
       "      <td>-73.995371</td>\n",
       "      <td>-74.00</td>\n",
       "      <td>1</td>\n",
       "    </tr>\n",
       "  </tbody>\n",
       "</table>\n",
       "</div>"
      ],
      "text/plain": [
       "   day          diff  dropoff_latitude  dropoff_latitude_r  dropoff_longitude  \\\n",
       "0    9  426000000000         40.731790               40.73         -73.982227   \n",
       "1    9  540000000000         40.763995               40.76         -73.960449   \n",
       "2    9  899000000000         40.765217               40.76         -73.986626   \n",
       "3    9  403000000000         40.777050               40.77         -73.979863   \n",
       "4    9  383000000000         40.720524               40.72         -73.984367   \n",
       "\n",
       "   dropoff_longitude_r  e_distance  passenger_count  pickup_latitude  \\\n",
       "0               -73.99    0.000183                1        40.736828   \n",
       "1               -73.97    0.000570                1        40.773382   \n",
       "2               -73.99    0.000670                2        40.739406   \n",
       "3               -73.98    0.000429                1        40.770464   \n",
       "4               -73.99    0.000132                1        40.717248   \n",
       "\n",
       "   pickup_latitude_r  pickup_longitude  pickup_longitude_r  rate_code  \n",
       "0              40.73        -73.994770              -74.00          1  \n",
       "1              40.77        -73.982392              -73.99          1  \n",
       "2              40.73        -73.988570              -73.99          1  \n",
       "3              40.77        -73.960213              -73.97          1  \n",
       "4              40.71        -73.995371              -74.00          1  "
      ]
     },
     "execution_count": 19,
     "metadata": {},
     "output_type": "execute_result"
    }
   ],
   "source": [
    "X_train.head()"
   ]
  },
  {
   "cell_type": "code",
   "execution_count": 20,
   "metadata": {
    "colab": {
     "base_uri": "https://localhost:8080/"
    },
    "executionInfo": {
     "elapsed": 33216,
     "status": "ok",
     "timestamp": 1648500712541,
     "user": {
      "displayName": "Swanand Mhalagi",
      "userId": "08810574404295251353"
     },
     "user_tz": 420
    },
    "id": "GWYgA8WrvNdP",
    "outputId": "ac927404-252f-4db0-8638-077ed8557f16"
   },
   "outputs": [],
   "source": [
    "#backup y_train for scikit learn \n",
    "y_train = Y_train\n",
    "\n",
    "\n",
    "encoder = preprocessing.LabelEncoder()\n",
    "Y_train = encoder.fit_transform(Y_train)"
   ]
  },
  {
   "cell_type": "code",
   "execution_count": 21,
   "metadata": {
    "executionInfo": {
     "elapsed": 66079,
     "status": "ok",
     "timestamp": 1648500786477,
     "user": {
      "displayName": "Swanand Mhalagi",
      "userId": "08810574404295251353"
     },
     "user_tz": 420
    },
    "id": "YImUSCDi1uGI",
    "scrolled": true
   },
   "outputs": [],
   "source": [
    "dtrain = xgb.DMatrix(X_train, Y_train)"
   ]
  },
  {
   "cell_type": "markdown",
   "metadata": {
    "id": "X1pXZA-j1uGI"
   },
   "source": [
    "## Time to Train our XGBoost Model!"
   ]
  },
  {
   "cell_type": "code",
   "execution_count": 22,
   "metadata": {
    "id": "N4jUpRZ51uGI",
    "scrolled": true
   },
   "outputs": [
    {
     "name": "stdout",
     "output_type": "stream",
     "text": [
      "[0]\ttrain-rmse:23.461\n",
      "[1]\ttrain-rmse:16.8155\n",
      "[2]\ttrain-rmse:12.292\n",
      "[3]\ttrain-rmse:9.26366\n",
      "[4]\ttrain-rmse:7.294\n",
      "[5]\ttrain-rmse:6.07585\n",
      "[6]\ttrain-rmse:5.3468\n",
      "[7]\ttrain-rmse:4.93009\n",
      "[8]\ttrain-rmse:4.67608\n",
      "[9]\ttrain-rmse:4.53335\n",
      "[10]\ttrain-rmse:4.44764\n",
      "[11]\ttrain-rmse:4.3933\n",
      "[12]\ttrain-rmse:4.3507\n",
      "[13]\ttrain-rmse:4.31815\n",
      "[14]\ttrain-rmse:4.29412\n",
      "[15]\ttrain-rmse:4.27754\n",
      "[16]\ttrain-rmse:4.24805\n",
      "[17]\ttrain-rmse:4.23907\n",
      "[18]\ttrain-rmse:4.23242\n",
      "[19]\ttrain-rmse:4.22835\n",
      "[20]\ttrain-rmse:4.22469\n",
      "[21]\ttrain-rmse:4.219\n",
      "[22]\ttrain-rmse:4.19642\n",
      "[23]\ttrain-rmse:4.17557\n",
      "[24]\ttrain-rmse:4.16801\n",
      "[25]\ttrain-rmse:4.15575\n",
      "[26]\ttrain-rmse:4.14998\n",
      "[27]\ttrain-rmse:4.14701\n",
      "[28]\ttrain-rmse:4.14293\n",
      "[29]\ttrain-rmse:4.14005\n",
      "[30]\ttrain-rmse:4.13449\n",
      "[31]\ttrain-rmse:4.12057\n",
      "[32]\ttrain-rmse:4.11319\n",
      "[33]\ttrain-rmse:4.10494\n",
      "[34]\ttrain-rmse:4.09091\n",
      "[35]\ttrain-rmse:4.07712\n",
      "[36]\ttrain-rmse:4.06976\n",
      "[37]\ttrain-rmse:4.06833\n",
      "[38]\ttrain-rmse:4.05999\n",
      "[39]\ttrain-rmse:4.05727\n",
      "[40]\ttrain-rmse:4.03192\n",
      "[41]\ttrain-rmse:4.02167\n",
      "[42]\ttrain-rmse:4.01454\n",
      "[43]\ttrain-rmse:4.00619\n",
      "[44]\ttrain-rmse:3.9975\n",
      "[45]\ttrain-rmse:3.99071\n",
      "[46]\ttrain-rmse:3.97673\n",
      "[47]\ttrain-rmse:3.96409\n",
      "[48]\ttrain-rmse:3.95616\n",
      "[49]\ttrain-rmse:3.93793\n",
      "[50]\ttrain-rmse:3.92282\n",
      "[51]\ttrain-rmse:3.91633\n",
      "[52]\ttrain-rmse:3.91403\n",
      "[53]\ttrain-rmse:3.89953\n",
      "[54]\ttrain-rmse:3.88843\n",
      "[55]\ttrain-rmse:3.88445\n",
      "[56]\ttrain-rmse:3.88223\n",
      "[57]\ttrain-rmse:3.87553\n",
      "[58]\ttrain-rmse:3.8685\n",
      "[59]\ttrain-rmse:3.85869\n",
      "[60]\ttrain-rmse:3.85136\n",
      "[61]\ttrain-rmse:3.83944\n",
      "[62]\ttrain-rmse:3.83358\n",
      "[63]\ttrain-rmse:3.83204\n",
      "[64]\ttrain-rmse:3.82557\n",
      "[65]\ttrain-rmse:3.81913\n",
      "[66]\ttrain-rmse:3.81484\n",
      "[67]\ttrain-rmse:3.80064\n",
      "[68]\ttrain-rmse:3.78969\n",
      "[69]\ttrain-rmse:3.78498\n",
      "[70]\ttrain-rmse:3.77491\n",
      "[71]\ttrain-rmse:3.77401\n",
      "[72]\ttrain-rmse:3.76923\n",
      "[73]\ttrain-rmse:3.76717\n",
      "[74]\ttrain-rmse:3.76113\n",
      "[75]\ttrain-rmse:3.75101\n",
      "[76]\ttrain-rmse:3.73888\n",
      "[77]\ttrain-rmse:3.7333\n",
      "[78]\ttrain-rmse:3.72337\n",
      "[79]\ttrain-rmse:3.72123\n",
      "[80]\ttrain-rmse:3.70784\n",
      "[81]\ttrain-rmse:3.7013\n",
      "[82]\ttrain-rmse:3.68977\n",
      "[83]\ttrain-rmse:3.68808\n",
      "[84]\ttrain-rmse:3.68023\n",
      "[85]\ttrain-rmse:3.67043\n",
      "[86]\ttrain-rmse:3.66199\n",
      "[87]\ttrain-rmse:3.65986\n",
      "[88]\ttrain-rmse:3.65475\n",
      "[89]\ttrain-rmse:3.6454\n",
      "[90]\ttrain-rmse:3.63956\n",
      "[91]\ttrain-rmse:3.63195\n",
      "[92]\ttrain-rmse:3.62382\n",
      "[93]\ttrain-rmse:3.6208\n",
      "[94]\ttrain-rmse:3.61228\n",
      "[95]\ttrain-rmse:3.59877\n",
      "[96]\ttrain-rmse:3.59082\n",
      "[97]\ttrain-rmse:3.58612\n",
      "[98]\ttrain-rmse:3.57842\n",
      "[99]\ttrain-rmse:3.57583\n",
      "11.158612251281738\n"
     ]
    }
   ],
   "source": [
    "#%%time\n",
    "\n",
    "#reg:squarederror\n",
    "start = time.time()\n",
    "\n",
    "trained_model = xgb.train({\n",
    "    'learning_rate': 0.3,\n",
    "    'max_depth': 8,\n",
    "    'objective': 'reg:linear',\n",
    "    'subsample': 0.6,\n",
    "    'gamma': 1,\n",
    "    'silent': True,\n",
    "    'verbose_eval': True,\n",
    "    'tree_method':'hist'\n",
    "    },\n",
    "    dtrain,\n",
    "    num_boost_round=100, evals=[(dtrain, 'train')])\n",
    "\n",
    "end = time.time()\n",
    "data_training_time = end - start\n",
    "print(data_training_time)"
   ]
  },
  {
   "cell_type": "code",
   "execution_count": 23,
   "metadata": {
    "colab": {
     "base_uri": "https://localhost:8080/",
     "height": 295
    },
    "executionInfo": {
     "elapsed": 850,
     "status": "ok",
     "timestamp": 1648501180925,
     "user": {
      "displayName": "Swanand Mhalagi",
      "userId": "08810574404295251353"
     },
     "user_tz": 420
    },
    "id": "p9qnvls21uGI",
    "outputId": "8aefadd9-301f-4c04-fd6a-55d5f1c3e4e1"
   },
   "outputs": [],
   "source": [
    "#ax = xgb.plot_importance(trained_model, height=0.8, max_num_features=10, importance_type=\"gain\")\n",
    "#ax.grid(False, axis=\"y\")\n",
    "#ax.set_title('Estimated feature importance')\n",
    "#ax.set_xlabel('importance')\n",
    "#plt.show()"
   ]
  },
  {
   "cell_type": "markdown",
   "metadata": {
    "id": "vNt1pr1g1uGJ"
   },
   "source": [
    "# How Good is Our Model?\n",
    "\n",
    "Now that we have a trained model, we need to test it with the 25% of records we held out."
   ]
  },
  {
   "cell_type": "code",
   "execution_count": 24,
   "metadata": {
    "colab": {
     "base_uri": "https://localhost:8080/"
    },
    "executionInfo": {
     "elapsed": 18144,
     "status": "ok",
     "timestamp": 1648501201356,
     "user": {
      "displayName": "Swanand Mhalagi",
      "userId": "08810574404295251353"
     },
     "user_tz": 420
    },
    "id": "otiPXazZ1uGJ",
    "outputId": "f1d7b80b-94a4-436d-872c-f3fda0e0d551"
   },
   "outputs": [
    {
     "data": {
      "text/plain": [
       "(274, 13)"
      ]
     },
     "execution_count": 24,
     "metadata": {},
     "output_type": "execute_result"
    }
   ],
   "source": [
    "X_test = taxi_df[taxi_df.day >= 25]\n",
    "\n",
    "# Create Y_test with just the fare amount\n",
    "Y_test = X_test[['fare_amount']]\n",
    "\n",
    "# Drop the fare amount from X_test\n",
    "X_test = X_test[X_test.columns.difference(['fare_amount'])]\n",
    "\n",
    "# display test set size\n",
    "X_test.shape"
   ]
  },
  {
   "cell_type": "markdown",
   "metadata": {
    "id": "-nZ10APc1uGJ"
   },
   "source": [
    "## Calculate Prediction"
   ]
  },
  {
   "cell_type": "code",
   "execution_count": 25,
   "metadata": {
    "colab": {
     "base_uri": "https://localhost:8080/"
    },
    "executionInfo": {
     "elapsed": 52290,
     "status": "ok",
     "timestamp": 1648501253637,
     "user": {
      "displayName": "Swanand Mhalagi",
      "userId": "08810574404295251353"
     },
     "user_tz": 420
    },
    "id": "KFsetGJp1uGJ",
    "outputId": "179fc1b1-cf12-478b-b73b-f450a3d2948d"
   },
   "outputs": [
    {
     "data": {
      "text/plain": [
       "(274,)"
      ]
     },
     "execution_count": 25,
     "metadata": {},
     "output_type": "execute_result"
    }
   ],
   "source": [
    "# generate predictions on the test set\n",
    "booster = trained_model\n",
    "prediction = modin_omni_pd.Series(booster.predict(xgb.DMatrix(X_test)))\n",
    "prediction.shape"
   ]
  },
  {
   "cell_type": "code",
   "execution_count": 26,
   "metadata": {
    "executionInfo": {
     "elapsed": 13,
     "status": "ok",
     "timestamp": 1648501253637,
     "user": {
      "displayName": "Swanand Mhalagi",
      "userId": "08810574404295251353"
     },
     "user_tz": 420
    },
    "id": "bSrWscJu1uGJ"
   },
   "outputs": [],
   "source": [
    "# prediction = prediction.map_partitions(lambda part: cudf.Series(part)).reset_index(drop=True)\n",
    "actual = Y_test['fare_amount'].reset_index(drop=True)"
   ]
  },
  {
   "cell_type": "code",
   "execution_count": 27,
   "metadata": {
    "colab": {
     "base_uri": "https://localhost:8080/"
    },
    "executionInfo": {
     "elapsed": 12,
     "status": "ok",
     "timestamp": 1648501253637,
     "user": {
      "displayName": "Swanand Mhalagi",
      "userId": "08810574404295251353"
     },
     "user_tz": 420
    },
    "id": "-gFtJd711uGJ",
    "outputId": "225cc4b7-a2b5-430d-d544-3b2807c1ae18"
   },
   "outputs": [
    {
     "data": {
      "text/plain": [
       "0    28.713934\n",
       "1    12.464524\n",
       "2    13.762292\n",
       "3    13.779843\n",
       "4    30.785995\n",
       "dtype: float32"
      ]
     },
     "execution_count": 27,
     "metadata": {},
     "output_type": "execute_result"
    }
   ],
   "source": [
    "prediction.head()"
   ]
  },
  {
   "cell_type": "code",
   "execution_count": 28,
   "metadata": {
    "colab": {
     "base_uri": "https://localhost:8080/"
    },
    "executionInfo": {
     "elapsed": 3474,
     "status": "ok",
     "timestamp": 1648501257103,
     "user": {
      "displayName": "Swanand Mhalagi",
      "userId": "08810574404295251353"
     },
     "user_tz": 420
    },
    "id": "LG5z46N41uGK",
    "outputId": "37e4a9c7-91d3-4096-bf72-97b11390fe5b"
   },
   "outputs": [
    {
     "data": {
      "text/plain": [
       "0    13.0\n",
       "1     7.5\n",
       "2     8.0\n",
       "3     8.0\n",
       "4    14.5\n",
       "Name: fare_amount, dtype: float64"
      ]
     },
     "execution_count": 28,
     "metadata": {},
     "output_type": "execute_result"
    }
   ],
   "source": [
    "actual.head()"
   ]
  },
  {
   "cell_type": "code",
   "execution_count": 29,
   "metadata": {
    "colab": {
     "base_uri": "https://localhost:8080/"
    },
    "executionInfo": {
     "elapsed": 13920,
     "status": "ok",
     "timestamp": 1648502252332,
     "user": {
      "displayName": "Swanand Mhalagi",
      "userId": "08810574404295251353"
     },
     "user_tz": 420
    },
    "id": "HqdvW86r1uGK",
    "outputId": "6b269fd4-d8fe-481a-9c8b-f194e4fbf2d9"
   },
   "outputs": [
    {
     "data": {
      "text/plain": [
       "15.863060614125194"
      ]
     },
     "execution_count": 29,
     "metadata": {},
     "output_type": "execute_result"
    }
   ],
   "source": [
    "# Calculate RMSE\n",
    "squared_error = ((prediction-actual)**2)\n",
    "\n",
    "# compute the actual RMSE over the full test set\n",
    "np.sqrt(squared_error.mean())"
   ]
  },
  {
   "cell_type": "code",
   "execution_count": 30,
   "metadata": {},
   "outputs": [
    {
     "name": "stdout",
     "output_type": "stream",
     "text": [
      "4.700435638427734\n",
      "11.158612251281738\n"
     ]
    }
   ],
   "source": [
    "print(data_reading_time)\n",
    "print(data_training_time)"
   ]
  },
  {
   "cell_type": "code",
   "execution_count": 31,
   "metadata": {},
   "outputs": [
    {
     "data": {
      "text/html": [
       "<div>\n",
       "<style scoped>\n",
       "    .dataframe tbody tr th:only-of-type {\n",
       "        vertical-align: middle;\n",
       "    }\n",
       "\n",
       "    .dataframe tbody tr th {\n",
       "        vertical-align: top;\n",
       "    }\n",
       "\n",
       "    .dataframe thead th {\n",
       "        text-align: right;\n",
       "    }\n",
       "</style>\n",
       "<table border=\"1\" class=\"dataframe\">\n",
       "  <thead>\n",
       "    <tr style=\"text-align: right;\">\n",
       "      <th></th>\n",
       "      <th>Type_of_operation</th>\n",
       "      <th>With_intel_optimizations</th>\n",
       "      <th>With_Public_version</th>\n",
       "    </tr>\n",
       "  </thead>\n",
       "  <tbody>\n",
       "    <tr>\n",
       "      <th>0</th>\n",
       "      <td>data_reading_time</td>\n",
       "      <td>3.509441</td>\n",
       "      <td>4.700436</td>\n",
       "    </tr>\n",
       "    <tr>\n",
       "      <th>1</th>\n",
       "      <td>XGboost_training_time</td>\n",
       "      <td>1.837119</td>\n",
       "      <td>11.158612</td>\n",
       "    </tr>\n",
       "  </tbody>\n",
       "</table>\n",
       "</div>"
      ],
      "text/plain": [
       "       Type_of_operation  With_intel_optimizations  With_Public_version\n",
       "0      data_reading_time                  3.509441             4.700436\n",
       "1  XGboost_training_time                  1.837119            11.158612"
      ]
     },
     "execution_count": 31,
     "metadata": {},
     "output_type": "execute_result"
    }
   ],
   "source": [
    "df = modin_omni_pd.read_csv('compare.csv', sep='\\t')\n",
    "data = [data_reading_time, data_training_time]\n",
    "df['With_Public_version'] = data\n",
    "df.to_csv('compare.csv', sep='\\t', index=False)\n",
    "df"
   ]
  }
 ],
 "metadata": {
  "colab": {
   "collapsed_sections": [],
   "machine_shape": "hm",
   "name": "NYCTaxi-E2E-Large-Data-Optimized.ipynb",
   "provenance": [
    {
     "file_id": "https://github.com/intel/scikit-learn-intelex/blob/master/examples/notebooks/NYCTaxi-E2E-Demo/NYCTaxi-E2E-Large-Data-Optimized.ipynb",
     "timestamp": 1648241352528
    }
   ],
   "toc_visible": true
  },
  "kernelspec": {
   "display_name": "Python 3 (ipykernel)",
   "language": "python",
   "name": "python3"
  },
  "language_info": {
   "codemirror_mode": {
    "name": "ipython",
    "version": 3
   },
   "file_extension": ".py",
   "mimetype": "text/x-python",
   "name": "python",
   "nbconvert_exporter": "python",
   "pygments_lexer": "ipython3",
   "version": "3.7.12"
  },
  "toc": {
   "base_numbering": 1,
   "nav_menu": {},
   "number_sections": true,
   "sideBar": true,
   "skip_h1_title": false,
   "title_cell": "Table of Contents",
   "title_sidebar": "Contents",
   "toc_cell": false,
   "toc_position": {},
   "toc_section_display": true,
   "toc_window_display": false
  }
 },
 "nbformat": 4,
 "nbformat_minor": 1
}
