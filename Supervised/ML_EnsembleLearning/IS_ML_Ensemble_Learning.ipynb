{
 "cells": [
  {
   "cell_type": "markdown",
   "metadata": {
    "_cell_guid": "da21b90d-98fc-483f-bf58-bd1dacf7027c",
    "_kg_hide-input": true,
    "_uuid": "90fb4599b093efccc95cacb6db2da95bcd695545"
   },
   "source": [
    "#### Tourism recommendation problem solving task **Unservised ML"
   ]
  },
  {
   "cell_type": "markdown",
   "metadata": {},
   "source": [
    "rquired lib's"
   ]
  },
  {
   "cell_type": "code",
   "execution_count": 22,
   "metadata": {
    "_cell_guid": "f26dff57-ef68-4cbf-86f1-b027cc75d6c1",
    "_uuid": "e0a227d03ea6a2d1995268f8cea078357eb596d4",
    "collapsed": true
   },
   "outputs": [],
   "source": [
    "import pandas as pd\n",
    "import numpy as np\n",
    "import timeit\n",
    "#import matplotlib.pyplot as plt\n",
    "# %matplotlib inline \n",
    "# from sklearn.cluster import KMeans, DBSCAN, kmeans_plusplus\n",
    "from sklearn.ensemble import RandomForestClassifier, AdaBoostClassifier\n",
    "from sklearn.tree import DecisionTreeClassifier, ExtraTreeClassifier\n",
    "from sklearn.model_selection import train_test_split\n",
    "from sklearn import metrics\n",
    "from sklearn.metrics import classification_report, confusion_matrix, roc_curve, roc_auc_score\n",
    "#from sklearn.datasets import make_classification\n",
    "#from matplotlib import pyplot\n",
    "#from numpy import unique, where\n",
    "#import seaborn as sborn \n",
    "#from sklearn.preprocessing import scale\n",
    "#from sklearn.decomposition import PCA\n",
    "#from sklearn.preprocessing import StandardScaler\n",
    "#import umap\n",
    "#from turtle import color\n",
    "#from operator import index"
   ]
  },
  {
   "cell_type": "markdown",
   "metadata": {},
   "source": [
    "Ensemble Methods Random Forest \n",
    "DataSet used: yeast4 - Imbalanced binary yeast protein localization\n",
    "DataSet format Mcg - McGeoch's method for signal sequence recognition. Continuous attribute\n",
    "        Gvh - Von Heijne's method for signal sequence recognition. Continuous attribute.\n",
    "        Alm - Score of the ALOM membrane spanning region prediction program. Continuous attribute.\n",
    "        Mit - Score of discriminant analysis of the amino acid content of the N-terminal region (20 residues long) of mitochondrial and non-mitochondrial proteins. Continuous attribute.\n",
    "        Erl - Presence of \"HDEL\" substring (thought to act as a signal for retention in the endoplasmic reticulum lumen). Binary attribute. Discrete attribute.\n",
    "        Pox - Peroxisomal targeting signal in the C-terminus. Continuous attribute.\n",
    "        Vac - Score of discriminant analysis of the amino acid content of vacuolar and extracellular proteins. Continuous attribute.\n",
    "        Nuc - Score of discriminant analysis of nuclear localization signals of nuclear and non-nuclear proteins. Continuous attribute.\n",
    "        Class - Two possible classes: positive (membrane protein, uncleaved signal), negative (rest of localizations)."
   ]
  },
  {
   "cell_type": "code",
   "execution_count": 28,
   "metadata": {},
   "outputs": [],
   "source": [
    "#Creatiing training and test data \n",
    "dataset_RF = pd.read_csv(\"yeast2vs4.csv\")\n",
    "X = dataset_RF.drop('class', axis=1) # Features\n",
    "y = dataset_RF['class'] # Target variable\n",
    "# Split dataset into training set and test set\n",
    "x_train, x_test, y_train, y_test = train_test_split(X, y, test_size=0.3, random_state=1) # 70% training and 30% test"
   ]
  },
  {
   "cell_type": "code",
   "execution_count": 20,
   "metadata": {
    "_cell_guid": "684d2ff9-f491-4384-b51d-d89a545f40a6",
    "_uuid": "3d527ebba36697ffcf0b5d46ef717172edcb0539",
    "collapsed": true
   },
   "outputs": [
    {
     "name": "stdout",
     "output_type": "stream",
     "text": [
      "Training Time for Random Forrest =  0.11330799997085705\n",
      "Prediction Time for Random Forrest =  0.01202770002419129\n",
      "              precision    recall  f1-score   support\n",
      "\n",
      "    negative       0.97      1.00      0.99       138\n",
      "    positive       1.00      0.76      0.87        17\n",
      "\n",
      "    accuracy                           0.97       155\n",
      "   macro avg       0.99      0.88      0.93       155\n",
      "weighted avg       0.97      0.97      0.97       155\n",
      "\n"
     ]
    }
   ],
   "source": [
    "#Ensemble Learning Random Forest - Calculate Random Forest training time\n",
    "start = timeit.default_timer()\n",
    "#Create a Random Forrest Classifier\n",
    "clf=RandomForestClassifier(n_estimators=100)\n",
    "#Train the model using the training sets y_pred=clf.predict(X_test)\n",
    "clf.fit(x_train,y_train)\n",
    "#Calculate Stop time\n",
    "stop = timeit.default_timer()\n",
    "train_time= stop - start\n",
    "print(\"Training Time for Random Forrest = \", train_time)\n",
    "#Calculate Random Forest Predictiontime\n",
    "start = timeit.default_timer()\n",
    "# Predict the model\n",
    "y_pred=clf.predict(x_test)\n",
    "stop = timeit.default_timer()\n",
    "test_time= stop - start\n",
    "\n",
    "print(\"Prediction Time for Random Forrest = \", test_time)\n",
    "print(classification_report(y_test,y_pred))"
   ]
  },
  {
   "cell_type": "code",
   "execution_count": 30,
   "metadata": {},
   "outputs": [
    {
     "name": "stdout",
     "output_type": "stream",
     "text": [
      "Training Time for Decsion Tree =  0.0023120000259950757\n",
      "Prediction Time for Descistion Tree =  0.0011138999834656715\n",
      "              precision    recall  f1-score   support\n",
      "\n",
      "    negative       0.97      0.97      0.97       138\n",
      "    positive       0.76      0.76      0.76        17\n",
      "\n",
      "    accuracy                           0.95       155\n",
      "   macro avg       0.87      0.87      0.87       155\n",
      "weighted avg       0.95      0.95      0.95       155\n",
      "\n"
     ]
    }
   ],
   "source": [
    "# Build Decision Tree model\n",
    "\n",
    "start = timeit.default_timer() \n",
    "#Create a Gaussian Classifier\n",
    "clf=DecisionTreeClassifier(random_state=19)\n",
    "#Train the model using the training sets y_pred=clf.predict(X_test)\n",
    "clf.fit(x_train,y_train)\n",
    "#Calculate Stop time\n",
    "stop = timeit.default_timer()\n",
    "train_time= stop - start #Calculate train time\n",
    "print(\"Training Time for Decsion Tree = \", train_time)\n",
    "\n",
    "# Predict the model now\n",
    "start = timeit.default_timer()\n",
    "# Predict the model\n",
    "y_pred=clf.predict(x_test)\n",
    "#Calculate Stop time\n",
    "stop = timeit.default_timer()\n",
    "test_time= stop - start #Calculate test time\n",
    "print(\"Prediction Time for Descistion Tree = \", test_time)\n",
    "print(classification_report(y_test,y_pred))"
   ]
  },
  {
   "cell_type": "code",
   "execution_count": 32,
   "metadata": {},
   "outputs": [
    {
     "name": "stdout",
     "output_type": "stream",
     "text": [
      "Training Time for Decsion Tree =  32.96304780000355\n",
      "Prediction Time for Descistion Tree =  0.0033680000342428684\n",
      "              precision    recall  f1-score   support\n",
      "\n",
      "    negative       0.96      0.99      0.97       138\n",
      "    positive       0.86      0.71      0.77        17\n",
      "\n",
      "    accuracy                           0.95       155\n",
      "   macro avg       0.91      0.85      0.87       155\n",
      "weighted avg       0.95      0.95      0.95       155\n",
      "\n"
     ]
    }
   ],
   "source": [
    "#Boosting Decision Tree\n",
    "AdaBoost_DT = AdaBoostClassifier(DecisionTreeClassifier(min_samples_split=19,max_depth=4),n_estimators=19,learning_rate=0.6)\n",
    "AdaBoost_DT.fit(x_train, y_train)\n",
    "stop = timeit.default_timer()\n",
    "train_time= stop - start\n",
    "print(\"Training Time for Decsion Tree = \", train_time)\n",
    "# Predict the model now\n",
    "start = timeit.default_timer()\n",
    "# Predict the model\n",
    "y_pred=AdaBoost_DT.predict(x_test)\n",
    "#Calculate Stop time\n",
    "stop = timeit.default_timer()\n",
    "test_time= stop - start #Calculate test time\n",
    "print(\"Prediction Time for Descistion Tree = \", test_time)\n",
    "print(classification_report(y_test,y_pred))"
   ]
  }
 ],
 "metadata": {
  "kernelspec": {
   "display_name": "Python 3.10.4 64-bit",
   "language": "python",
   "name": "python3"
  },
  "language_info": {
   "codemirror_mode": {
    "name": "ipython",
    "version": 3
   },
   "file_extension": ".py",
   "mimetype": "text/x-python",
   "name": "python",
   "nbconvert_exporter": "python",
   "pygments_lexer": "ipython3",
   "version": "3.10.4"
  },
  "vscode": {
   "interpreter": {
    "hash": "e02fd8c1647a10c095a5d5d362037efea5421a833da348a30fe407dff82fa04e"
   }
  }
 },
 "nbformat": 4,
 "nbformat_minor": 1
}
